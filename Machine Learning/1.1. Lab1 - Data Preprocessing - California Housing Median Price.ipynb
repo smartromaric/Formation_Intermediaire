{
 "cells": [
  {
   "cell_type": "markdown",
   "id": "068ce9b2",
   "metadata": {
    "toc": true
   },
   "source": [
    "<h1>Table of Contents<span class=\"tocSkip\"></span></h1>\n",
    "<div class=\"toc\"><ul class=\"toc-item\"><li><span><a href=\"#Importation-des-librairies-utiles\" data-toc-modified-id=\"Importation-des-librairies-utiles-1\"><span class=\"toc-item-num\">1&nbsp;&nbsp;</span>Importation des librairies utiles</a></span></li><li><span><a href=\"#Obtention-des-données\" data-toc-modified-id=\"Obtention-des-données-2\"><span class=\"toc-item-num\">2&nbsp;&nbsp;</span>Obtention des données</a></span></li><li><span><a href=\"#Exploration-de-la-Donnée\" data-toc-modified-id=\"Exploration-de-la-Donnée-3\"><span class=\"toc-item-num\">3&nbsp;&nbsp;</span>Exploration de la Donnée</a></span><ul class=\"toc-item\"><li><span><a href=\"#Identifier-les-features-et-le-Label\" data-toc-modified-id=\"Identifier-les-features-et-le-Label-3.1\"><span class=\"toc-item-num\">3.1&nbsp;&nbsp;</span>Identifier les features et le Label</a></span></li><li><span><a href=\"#Etude-des-valeurs-dupliquées\" data-toc-modified-id=\"Etude-des-valeurs-dupliquées-3.2\"><span class=\"toc-item-num\">3.2&nbsp;&nbsp;</span>Etude des valeurs dupliquées</a></span></li><li><span><a href=\"#Etude-basique-de-valeurs-aberrantes\" data-toc-modified-id=\"Etude-basique-de-valeurs-aberrantes-3.3\"><span class=\"toc-item-num\">3.3&nbsp;&nbsp;</span>Etude basique de valeurs aberrantes</a></span></li><li><span><a href=\"#Etude-des-valeurs-manquantes\" data-toc-modified-id=\"Etude-des-valeurs-manquantes-3.4\"><span class=\"toc-item-num\">3.4&nbsp;&nbsp;</span>Etude des valeurs manquantes</a></span></li><li><span><a href=\"#Distribution-des-données\" data-toc-modified-id=\"Distribution-des-données-3.5\"><span class=\"toc-item-num\">3.5&nbsp;&nbsp;</span>Distribution des données</a></span></li><li><span><a href=\"#Matrice-de-correlations\" data-toc-modified-id=\"Matrice-de-correlations-3.6\"><span class=\"toc-item-num\">3.6&nbsp;&nbsp;</span>Matrice de correlations</a></span></li><li><span><a href=\"#Résumé-de-la-partie-exploratoire---transformations-pertinentes?\" data-toc-modified-id=\"Résumé-de-la-partie-exploratoire---transformations-pertinentes?-3.7\"><span class=\"toc-item-num\">3.7&nbsp;&nbsp;</span>Résumé de la partie exploratoire - transformations pertinentes?</a></span></li></ul></li><li><span><a href=\"#Préparation-des-données\" data-toc-modified-id=\"Préparation-des-données-4\"><span class=\"toc-item-num\">4&nbsp;&nbsp;</span>Préparation des données</a></span><ul class=\"toc-item\"><li><span><a href=\"#Gestion-des-données-manquantes\" data-toc-modified-id=\"Gestion-des-données-manquantes-4.1\"><span class=\"toc-item-num\">4.1&nbsp;&nbsp;</span>Gestion des données manquantes</a></span></li><li><span><a href=\"#Correction-ou-suppression-de-valeurs-aberrantes\" data-toc-modified-id=\"Correction-ou-suppression-de-valeurs-aberrantes-4.2\"><span class=\"toc-item-num\">4.2&nbsp;&nbsp;</span>Correction ou suppression de valeurs aberrantes</a></span></li><li><span><a href=\"#Sélection-de-feature\" data-toc-modified-id=\"Sélection-de-feature-4.3\"><span class=\"toc-item-num\">4.3&nbsp;&nbsp;</span>Sélection de feature</a></span></li><li><span><a href=\"#Feature-engineering\" data-toc-modified-id=\"Feature-engineering-4.4\"><span class=\"toc-item-num\">4.4&nbsp;&nbsp;</span>Feature engineering</a></span></li><li><span><a href=\"#Feature-Scaling-and/or-Normalization\" data-toc-modified-id=\"Feature-Scaling-and/or-Normalization-4.5\"><span class=\"toc-item-num\">4.5&nbsp;&nbsp;</span><a href=\"https://colab.research.google.com/github/ml-course/master/blob/master/notebooks/06%20-%20Data%20Preprocessing.ipynb\" rel=\"nofollow\" target=\"_blank\">Feature Scaling and/or Normalization</a></a></span></li><li><span><a href=\"#Encoder-les-variables-catégorielles\" data-toc-modified-id=\"Encoder-les-variables-catégorielles-4.6\"><span class=\"toc-item-num\">4.6&nbsp;&nbsp;</span>Encoder les variables catégorielles</a></span></li><li><span><a href=\"#Créer-un-pipeline\" data-toc-modified-id=\"Créer-un-pipeline-4.7\"><span class=\"toc-item-num\">4.7&nbsp;&nbsp;</span>Créer un pipeline</a></span></li></ul></li></ul></div>"
   ]
  },
  {
   "cell_type": "markdown",
   "id": "4ca157d0",
   "metadata": {},
   "source": [
    "<img src=\"https://miro.medium.com/v2/resize:fit:1400/0*-G8VWk7x24EcOyza\" alt=\"image\" width=\"100%\">"
   ]
  },
  {
   "cell_type": "markdown",
   "id": "af3683bb",
   "metadata": {
    "lang": "en"
   },
   "source": [
    "L'objectif de ce Lab est de préparer les données permettant de prédire les prix de l'immobilier en Californie en 1990.\n",
    "\n",
    "Les données concernent les maisons trouvées dans un district californien donné et quelques statistiques récapitulatives à leur sujet basées sur les données du recensement de 1990. Soyez averti que les données ne sont pas nettoyées, certaines étapes de prétraitement sont donc requises ! Les colonnes sont les suivantes, leurs noms sont assez explicites :\n",
    "\n",
    "longitude\n",
    "\n",
    "latitude\n",
    "\n",
    "logement_âge médian_\n",
    "\n",
    "total_chambres\n",
    "\n",
    "total_chambres\n",
    "\n",
    "population\n",
    "\n",
    "ménages\n",
    "\n",
    "revenu_médian\n",
    "\n",
    "valeur médiane_de la maison\n",
    "\n",
    "océan_proximité\n",
    "\n",
    "Le prétraitement comprend la détection et la gestion des valeurs manquantes, l'enodage des caractéristiques catégorielles et ne se limite pas à ces étapes."
   ]
  },
  {
   "cell_type": "markdown",
   "id": "38750769",
   "metadata": {},
   "source": [
    "## Importation des librairies utiles"
   ]
  },
  {
   "cell_type": "code",
   "execution_count": 1,
   "id": "558fd931",
   "metadata": {
    "ExecuteTime": {
     "end_time": "2024-06-18T13:23:01.399492Z",
     "start_time": "2024-06-18T13:23:01.390528Z"
    }
   },
   "outputs": [],
   "source": [
    "import warnings\n",
    "warnings.filterwarnings(\"ignore\")"
   ]
  },
  {
   "cell_type": "code",
   "execution_count": 2,
   "id": "708b8bde",
   "metadata": {
    "ExecuteTime": {
     "end_time": "2024-06-18T13:23:05.943292Z",
     "start_time": "2024-06-18T13:23:01.449006Z"
    }
   },
   "outputs": [],
   "source": [
    "# import des librairies\n",
    "import os, random\n",
    "\n",
    "import numpy as np # manipulation de matrices\n",
    "import pandas as pd # chargement de donnees\n",
    "\n",
    "#visualisation\n",
    "import seaborn as sns \n",
    "import matplotlib.pyplot as plt \n",
    "\n",
    "# visualition de valeurs manquantes\n",
    "import missingno as msno\n",
    "\n",
    "# gestion des valeurs manquantes\n",
    "from sklearn.impute import SimpleImputer\n",
    "\n",
    "# encodage des variables categorielles\n",
    "from sklearn.preprocessing import OneHotEncoder  \n",
    "\n",
    "# mise a l'echelle des variables numeriques\n",
    "from sklearn.preprocessing import StandardScaler  \n",
    "\n",
    "# separation de la donnee en train, validation, et test\n",
    "from sklearn.model_selection import train_test_split\n",
    "\n",
    "# création de pipeline\n",
    "from sklearn.pipeline import Pipeline\n"
   ]
  },
  {
   "cell_type": "code",
   "execution_count": 3,
   "id": "2b935973",
   "metadata": {
    "ExecuteTime": {
     "end_time": "2024-06-18T13:23:05.959091Z",
     "start_time": "2024-06-18T13:23:05.950648Z"
    }
   },
   "outputs": [],
   "source": [
    "# ne modifier pas ce bout de code\n",
    "seed = 2024\n",
    "random.seed(seed)\n",
    "np.random.seed(seed)"
   ]
  },
  {
   "cell_type": "markdown",
   "id": "bb377923",
   "metadata": {},
   "source": [
    "## Obtention des données"
   ]
  },
  {
   "cell_type": "markdown",
   "id": "b99656ac",
   "metadata": {},
   "source": [
    "La donnée nécessaire pour ce Lab se trouve dans le dossier data/housing.csv."
   ]
  },
  {
   "cell_type": "code",
   "execution_count": 8,
   "id": "bc003697",
   "metadata": {
    "ExecuteTime": {
     "end_time": "2024-06-18T13:23:05.981229Z",
     "start_time": "2024-06-18T13:23:05.968485Z"
    }
   },
   "outputs": [
    {
     "ename": "FileNotFoundError",
     "evalue": "[Errno 2] No such file or directory: '/data/housing.csv'",
     "output_type": "error",
     "traceback": [
      "\u001b[1;31m---------------------------------------------------------------------------\u001b[0m",
      "\u001b[1;31mFileNotFoundError\u001b[0m                         Traceback (most recent call last)",
      "Cell \u001b[1;32mIn[8], line 3\u001b[0m\n\u001b[0;32m      1\u001b[0m \u001b[38;5;66;03m# charger la donée \u001b[39;00m\n\u001b[0;32m      2\u001b[0m \u001b[38;5;28;01mimport\u001b[39;00m \u001b[38;5;21;01mpandas\u001b[39;00m \u001b[38;5;28;01mas\u001b[39;00m \u001b[38;5;21;01mpd\u001b[39;00m\n\u001b[1;32m----> 3\u001b[0m housing_df \u001b[38;5;241m=\u001b[39m \u001b[43mpd\u001b[49m\u001b[38;5;241;43m.\u001b[39;49m\u001b[43mread_csv\u001b[49m\u001b[43m(\u001b[49m\u001b[43m \u001b[49m\u001b[38;5;124;43m\"\u001b[39;49m\u001b[38;5;124;43m/data/housing.csv\u001b[39;49m\u001b[38;5;124;43m\"\u001b[39;49m\u001b[43m)\u001b[49m\n\u001b[0;32m      4\u001b[0m \u001b[38;5;28mprint\u001b[39m(housing_df\u001b[38;5;241m.\u001b[39mhead())\n",
      "File \u001b[1;32mc:\\users\\romaric\\appdata\\local\\programs\\python\\python39\\lib\\site-packages\\pandas\\io\\parsers\\readers.py:1026\u001b[0m, in \u001b[0;36mread_csv\u001b[1;34m(filepath_or_buffer, sep, delimiter, header, names, index_col, usecols, dtype, engine, converters, true_values, false_values, skipinitialspace, skiprows, skipfooter, nrows, na_values, keep_default_na, na_filter, verbose, skip_blank_lines, parse_dates, infer_datetime_format, keep_date_col, date_parser, date_format, dayfirst, cache_dates, iterator, chunksize, compression, thousands, decimal, lineterminator, quotechar, quoting, doublequote, escapechar, comment, encoding, encoding_errors, dialect, on_bad_lines, delim_whitespace, low_memory, memory_map, float_precision, storage_options, dtype_backend)\u001b[0m\n\u001b[0;32m   1013\u001b[0m kwds_defaults \u001b[38;5;241m=\u001b[39m _refine_defaults_read(\n\u001b[0;32m   1014\u001b[0m     dialect,\n\u001b[0;32m   1015\u001b[0m     delimiter,\n\u001b[1;32m   (...)\u001b[0m\n\u001b[0;32m   1022\u001b[0m     dtype_backend\u001b[38;5;241m=\u001b[39mdtype_backend,\n\u001b[0;32m   1023\u001b[0m )\n\u001b[0;32m   1024\u001b[0m kwds\u001b[38;5;241m.\u001b[39mupdate(kwds_defaults)\n\u001b[1;32m-> 1026\u001b[0m \u001b[38;5;28;01mreturn\u001b[39;00m \u001b[43m_read\u001b[49m\u001b[43m(\u001b[49m\u001b[43mfilepath_or_buffer\u001b[49m\u001b[43m,\u001b[49m\u001b[43m \u001b[49m\u001b[43mkwds\u001b[49m\u001b[43m)\u001b[49m\n",
      "File \u001b[1;32mc:\\users\\romaric\\appdata\\local\\programs\\python\\python39\\lib\\site-packages\\pandas\\io\\parsers\\readers.py:620\u001b[0m, in \u001b[0;36m_read\u001b[1;34m(filepath_or_buffer, kwds)\u001b[0m\n\u001b[0;32m    617\u001b[0m _validate_names(kwds\u001b[38;5;241m.\u001b[39mget(\u001b[38;5;124m\"\u001b[39m\u001b[38;5;124mnames\u001b[39m\u001b[38;5;124m\"\u001b[39m, \u001b[38;5;28;01mNone\u001b[39;00m))\n\u001b[0;32m    619\u001b[0m \u001b[38;5;66;03m# Create the parser.\u001b[39;00m\n\u001b[1;32m--> 620\u001b[0m parser \u001b[38;5;241m=\u001b[39m TextFileReader(filepath_or_buffer, \u001b[38;5;241m*\u001b[39m\u001b[38;5;241m*\u001b[39mkwds)\n\u001b[0;32m    622\u001b[0m \u001b[38;5;28;01mif\u001b[39;00m chunksize \u001b[38;5;129;01mor\u001b[39;00m iterator:\n\u001b[0;32m    623\u001b[0m     \u001b[38;5;28;01mreturn\u001b[39;00m parser\n",
      "File \u001b[1;32mc:\\users\\romaric\\appdata\\local\\programs\\python\\python39\\lib\\site-packages\\pandas\\io\\parsers\\readers.py:1620\u001b[0m, in \u001b[0;36mTextFileReader.__init__\u001b[1;34m(self, f, engine, **kwds)\u001b[0m\n\u001b[0;32m   1617\u001b[0m     \u001b[38;5;28mself\u001b[39m\u001b[38;5;241m.\u001b[39moptions[\u001b[38;5;124m\"\u001b[39m\u001b[38;5;124mhas_index_names\u001b[39m\u001b[38;5;124m\"\u001b[39m] \u001b[38;5;241m=\u001b[39m kwds[\u001b[38;5;124m\"\u001b[39m\u001b[38;5;124mhas_index_names\u001b[39m\u001b[38;5;124m\"\u001b[39m]\n\u001b[0;32m   1619\u001b[0m \u001b[38;5;28mself\u001b[39m\u001b[38;5;241m.\u001b[39mhandles: IOHandles \u001b[38;5;241m|\u001b[39m \u001b[38;5;28;01mNone\u001b[39;00m \u001b[38;5;241m=\u001b[39m \u001b[38;5;28;01mNone\u001b[39;00m\n\u001b[1;32m-> 1620\u001b[0m \u001b[38;5;28mself\u001b[39m\u001b[38;5;241m.\u001b[39m_engine \u001b[38;5;241m=\u001b[39m \u001b[38;5;28;43mself\u001b[39;49m\u001b[38;5;241;43m.\u001b[39;49m\u001b[43m_make_engine\u001b[49m\u001b[43m(\u001b[49m\u001b[43mf\u001b[49m\u001b[43m,\u001b[49m\u001b[43m \u001b[49m\u001b[38;5;28;43mself\u001b[39;49m\u001b[38;5;241;43m.\u001b[39;49m\u001b[43mengine\u001b[49m\u001b[43m)\u001b[49m\n",
      "File \u001b[1;32mc:\\users\\romaric\\appdata\\local\\programs\\python\\python39\\lib\\site-packages\\pandas\\io\\parsers\\readers.py:1880\u001b[0m, in \u001b[0;36mTextFileReader._make_engine\u001b[1;34m(self, f, engine)\u001b[0m\n\u001b[0;32m   1878\u001b[0m     \u001b[38;5;28;01mif\u001b[39;00m \u001b[38;5;124m\"\u001b[39m\u001b[38;5;124mb\u001b[39m\u001b[38;5;124m\"\u001b[39m \u001b[38;5;129;01mnot\u001b[39;00m \u001b[38;5;129;01min\u001b[39;00m mode:\n\u001b[0;32m   1879\u001b[0m         mode \u001b[38;5;241m+\u001b[39m\u001b[38;5;241m=\u001b[39m \u001b[38;5;124m\"\u001b[39m\u001b[38;5;124mb\u001b[39m\u001b[38;5;124m\"\u001b[39m\n\u001b[1;32m-> 1880\u001b[0m \u001b[38;5;28mself\u001b[39m\u001b[38;5;241m.\u001b[39mhandles \u001b[38;5;241m=\u001b[39m \u001b[43mget_handle\u001b[49m\u001b[43m(\u001b[49m\n\u001b[0;32m   1881\u001b[0m \u001b[43m    \u001b[49m\u001b[43mf\u001b[49m\u001b[43m,\u001b[49m\n\u001b[0;32m   1882\u001b[0m \u001b[43m    \u001b[49m\u001b[43mmode\u001b[49m\u001b[43m,\u001b[49m\n\u001b[0;32m   1883\u001b[0m \u001b[43m    \u001b[49m\u001b[43mencoding\u001b[49m\u001b[38;5;241;43m=\u001b[39;49m\u001b[38;5;28;43mself\u001b[39;49m\u001b[38;5;241;43m.\u001b[39;49m\u001b[43moptions\u001b[49m\u001b[38;5;241;43m.\u001b[39;49m\u001b[43mget\u001b[49m\u001b[43m(\u001b[49m\u001b[38;5;124;43m\"\u001b[39;49m\u001b[38;5;124;43mencoding\u001b[39;49m\u001b[38;5;124;43m\"\u001b[39;49m\u001b[43m,\u001b[49m\u001b[43m \u001b[49m\u001b[38;5;28;43;01mNone\u001b[39;49;00m\u001b[43m)\u001b[49m\u001b[43m,\u001b[49m\n\u001b[0;32m   1884\u001b[0m \u001b[43m    \u001b[49m\u001b[43mcompression\u001b[49m\u001b[38;5;241;43m=\u001b[39;49m\u001b[38;5;28;43mself\u001b[39;49m\u001b[38;5;241;43m.\u001b[39;49m\u001b[43moptions\u001b[49m\u001b[38;5;241;43m.\u001b[39;49m\u001b[43mget\u001b[49m\u001b[43m(\u001b[49m\u001b[38;5;124;43m\"\u001b[39;49m\u001b[38;5;124;43mcompression\u001b[39;49m\u001b[38;5;124;43m\"\u001b[39;49m\u001b[43m,\u001b[49m\u001b[43m \u001b[49m\u001b[38;5;28;43;01mNone\u001b[39;49;00m\u001b[43m)\u001b[49m\u001b[43m,\u001b[49m\n\u001b[0;32m   1885\u001b[0m \u001b[43m    \u001b[49m\u001b[43mmemory_map\u001b[49m\u001b[38;5;241;43m=\u001b[39;49m\u001b[38;5;28;43mself\u001b[39;49m\u001b[38;5;241;43m.\u001b[39;49m\u001b[43moptions\u001b[49m\u001b[38;5;241;43m.\u001b[39;49m\u001b[43mget\u001b[49m\u001b[43m(\u001b[49m\u001b[38;5;124;43m\"\u001b[39;49m\u001b[38;5;124;43mmemory_map\u001b[39;49m\u001b[38;5;124;43m\"\u001b[39;49m\u001b[43m,\u001b[49m\u001b[43m \u001b[49m\u001b[38;5;28;43;01mFalse\u001b[39;49;00m\u001b[43m)\u001b[49m\u001b[43m,\u001b[49m\n\u001b[0;32m   1886\u001b[0m \u001b[43m    \u001b[49m\u001b[43mis_text\u001b[49m\u001b[38;5;241;43m=\u001b[39;49m\u001b[43mis_text\u001b[49m\u001b[43m,\u001b[49m\n\u001b[0;32m   1887\u001b[0m \u001b[43m    \u001b[49m\u001b[43merrors\u001b[49m\u001b[38;5;241;43m=\u001b[39;49m\u001b[38;5;28;43mself\u001b[39;49m\u001b[38;5;241;43m.\u001b[39;49m\u001b[43moptions\u001b[49m\u001b[38;5;241;43m.\u001b[39;49m\u001b[43mget\u001b[49m\u001b[43m(\u001b[49m\u001b[38;5;124;43m\"\u001b[39;49m\u001b[38;5;124;43mencoding_errors\u001b[39;49m\u001b[38;5;124;43m\"\u001b[39;49m\u001b[43m,\u001b[49m\u001b[43m \u001b[49m\u001b[38;5;124;43m\"\u001b[39;49m\u001b[38;5;124;43mstrict\u001b[39;49m\u001b[38;5;124;43m\"\u001b[39;49m\u001b[43m)\u001b[49m\u001b[43m,\u001b[49m\n\u001b[0;32m   1888\u001b[0m \u001b[43m    \u001b[49m\u001b[43mstorage_options\u001b[49m\u001b[38;5;241;43m=\u001b[39;49m\u001b[38;5;28;43mself\u001b[39;49m\u001b[38;5;241;43m.\u001b[39;49m\u001b[43moptions\u001b[49m\u001b[38;5;241;43m.\u001b[39;49m\u001b[43mget\u001b[49m\u001b[43m(\u001b[49m\u001b[38;5;124;43m\"\u001b[39;49m\u001b[38;5;124;43mstorage_options\u001b[39;49m\u001b[38;5;124;43m\"\u001b[39;49m\u001b[43m,\u001b[49m\u001b[43m \u001b[49m\u001b[38;5;28;43;01mNone\u001b[39;49;00m\u001b[43m)\u001b[49m\u001b[43m,\u001b[49m\n\u001b[0;32m   1889\u001b[0m \u001b[43m\u001b[49m\u001b[43m)\u001b[49m\n\u001b[0;32m   1890\u001b[0m \u001b[38;5;28;01massert\u001b[39;00m \u001b[38;5;28mself\u001b[39m\u001b[38;5;241m.\u001b[39mhandles \u001b[38;5;129;01mis\u001b[39;00m \u001b[38;5;129;01mnot\u001b[39;00m \u001b[38;5;28;01mNone\u001b[39;00m\n\u001b[0;32m   1891\u001b[0m f \u001b[38;5;241m=\u001b[39m \u001b[38;5;28mself\u001b[39m\u001b[38;5;241m.\u001b[39mhandles\u001b[38;5;241m.\u001b[39mhandle\n",
      "File \u001b[1;32mc:\\users\\romaric\\appdata\\local\\programs\\python\\python39\\lib\\site-packages\\pandas\\io\\common.py:873\u001b[0m, in \u001b[0;36mget_handle\u001b[1;34m(path_or_buf, mode, encoding, compression, memory_map, is_text, errors, storage_options)\u001b[0m\n\u001b[0;32m    868\u001b[0m \u001b[38;5;28;01melif\u001b[39;00m \u001b[38;5;28misinstance\u001b[39m(handle, \u001b[38;5;28mstr\u001b[39m):\n\u001b[0;32m    869\u001b[0m     \u001b[38;5;66;03m# Check whether the filename is to be opened in binary mode.\u001b[39;00m\n\u001b[0;32m    870\u001b[0m     \u001b[38;5;66;03m# Binary mode does not support 'encoding' and 'newline'.\u001b[39;00m\n\u001b[0;32m    871\u001b[0m     \u001b[38;5;28;01mif\u001b[39;00m ioargs\u001b[38;5;241m.\u001b[39mencoding \u001b[38;5;129;01mand\u001b[39;00m \u001b[38;5;124m\"\u001b[39m\u001b[38;5;124mb\u001b[39m\u001b[38;5;124m\"\u001b[39m \u001b[38;5;129;01mnot\u001b[39;00m \u001b[38;5;129;01min\u001b[39;00m ioargs\u001b[38;5;241m.\u001b[39mmode:\n\u001b[0;32m    872\u001b[0m         \u001b[38;5;66;03m# Encoding\u001b[39;00m\n\u001b[1;32m--> 873\u001b[0m         handle \u001b[38;5;241m=\u001b[39m \u001b[38;5;28;43mopen\u001b[39;49m\u001b[43m(\u001b[49m\n\u001b[0;32m    874\u001b[0m \u001b[43m            \u001b[49m\u001b[43mhandle\u001b[49m\u001b[43m,\u001b[49m\n\u001b[0;32m    875\u001b[0m \u001b[43m            \u001b[49m\u001b[43mioargs\u001b[49m\u001b[38;5;241;43m.\u001b[39;49m\u001b[43mmode\u001b[49m\u001b[43m,\u001b[49m\n\u001b[0;32m    876\u001b[0m \u001b[43m            \u001b[49m\u001b[43mencoding\u001b[49m\u001b[38;5;241;43m=\u001b[39;49m\u001b[43mioargs\u001b[49m\u001b[38;5;241;43m.\u001b[39;49m\u001b[43mencoding\u001b[49m\u001b[43m,\u001b[49m\n\u001b[0;32m    877\u001b[0m \u001b[43m            \u001b[49m\u001b[43merrors\u001b[49m\u001b[38;5;241;43m=\u001b[39;49m\u001b[43merrors\u001b[49m\u001b[43m,\u001b[49m\n\u001b[0;32m    878\u001b[0m \u001b[43m            \u001b[49m\u001b[43mnewline\u001b[49m\u001b[38;5;241;43m=\u001b[39;49m\u001b[38;5;124;43m\"\u001b[39;49m\u001b[38;5;124;43m\"\u001b[39;49m\u001b[43m,\u001b[49m\n\u001b[0;32m    879\u001b[0m \u001b[43m        \u001b[49m\u001b[43m)\u001b[49m\n\u001b[0;32m    880\u001b[0m     \u001b[38;5;28;01melse\u001b[39;00m:\n\u001b[0;32m    881\u001b[0m         \u001b[38;5;66;03m# Binary mode\u001b[39;00m\n\u001b[0;32m    882\u001b[0m         handle \u001b[38;5;241m=\u001b[39m \u001b[38;5;28mopen\u001b[39m(handle, ioargs\u001b[38;5;241m.\u001b[39mmode)\n",
      "\u001b[1;31mFileNotFoundError\u001b[0m: [Errno 2] No such file or directory: '/data/housing.csv'"
     ]
    }
   ],
   "source": [
    "# charger la donée \n",
    "import pandas as pd\n",
    "housing_df = pd.read_csv( \"/data/housing.csv\")\n",
    "housing_df.head()"
   ]
  },
  {
   "cell_type": "code",
   "execution_count": null,
   "id": "1a65921c",
   "metadata": {
    "ExecuteTime": {
     "end_time": "2024-06-18T13:23:06.000664Z",
     "start_time": "2024-06-18T13:23:05.989247Z"
    }
   },
   "outputs": [],
   "source": [
    "# afficher les 5 premières lignes\n"
   ]
  },
  {
   "cell_type": "code",
   "execution_count": 6,
   "id": "5bada91f",
   "metadata": {
    "ExecuteTime": {
     "end_time": "2024-06-18T13:23:06.021700Z",
     "start_time": "2024-06-18T13:23:06.005677Z"
    }
   },
   "outputs": [],
   "source": [
    "# vérifier la taille de la donnée\n"
   ]
  },
  {
   "cell_type": "code",
   "execution_count": 7,
   "id": "53171074",
   "metadata": {
    "ExecuteTime": {
     "end_time": "2024-06-18T13:23:06.036347Z",
     "start_time": "2024-06-18T13:23:06.025714Z"
    }
   },
   "outputs": [],
   "source": [
    "# vérifier le type de donnée (série temporelle, échantillon, géographique, ...)\n"
   ]
  },
  {
   "cell_type": "markdown",
   "id": "41d8e049",
   "metadata": {},
   "source": [
    "Le data dredging (également connu sous le nom de data snooping ou p-hacking) est l'utilisation abusive de l'analyse de données pour trouver des modèles dans les données qui peuvent être présentés comme statistiquement significatifs, augmentant ainsi considérablement le risque de faux positifs et le sous-estimant."
   ]
  },
  {
   "cell_type": "code",
   "execution_count": 8,
   "id": "f3910adf",
   "metadata": {
    "ExecuteTime": {
     "end_time": "2024-06-18T13:23:06.053452Z",
     "start_time": "2024-06-18T13:23:06.039360Z"
    }
   },
   "outputs": [],
   "source": [
    "# mettez un échantillon de 20% de la donnée de côté que vous ne regarderez jamais \n",
    "# en utilisant train_test_split. Utiliser random_state = 67\n",
    "housing_train_df, housing_test_df = _, _\n",
    "\n",
    "# sauvegarder les ensembles crees a l'aide de pd.to_csv dans le dossier data\n",
    "# sous les noms housing_train.csv et housing_test.csv\n"
   ]
  },
  {
   "cell_type": "markdown",
   "id": "b0c8e55f",
   "metadata": {},
   "source": [
    "Pour les analyses subséquentes, veillez à ne travailler qu'avec la donnée d'entraînement."
   ]
  },
  {
   "cell_type": "markdown",
   "id": "631b3d28",
   "metadata": {},
   "source": [
    "## Exploration de la Donnée"
   ]
  },
  {
   "cell_type": "markdown",
   "id": "cb4c6c8a",
   "metadata": {},
   "source": [
    "### Identifier les features et le Label"
   ]
  },
  {
   "cell_type": "markdown",
   "id": "8ccf4d35",
   "metadata": {},
   "source": [
    "- Combien de features/ caractéristiques sont présentes dans le jeu de données?\n",
    "- Quels sont leurs types?\n",
    "- Le Label est-il continu ou catégoriel?"
   ]
  },
  {
   "cell_type": "code",
   "execution_count": null,
   "id": "181153bc",
   "metadata": {},
   "outputs": [],
   "source": []
  },
  {
   "cell_type": "code",
   "execution_count": null,
   "id": "fe2b6480",
   "metadata": {},
   "outputs": [],
   "source": []
  },
  {
   "cell_type": "markdown",
   "id": "ba8bc98e",
   "metadata": {},
   "source": [
    "### Etude des valeurs dupliquées"
   ]
  },
  {
   "cell_type": "code",
   "execution_count": null,
   "id": "ec986cfa",
   "metadata": {},
   "outputs": [],
   "source": []
  },
  {
   "cell_type": "markdown",
   "id": "da165750",
   "metadata": {},
   "source": [
    "### Etude basique de valeurs aberrantes"
   ]
  },
  {
   "cell_type": "code",
   "execution_count": 9,
   "id": "eb5fbedd",
   "metadata": {
    "ExecuteTime": {
     "end_time": "2024-06-18T13:23:06.069503Z",
     "start_time": "2024-06-18T13:23:06.056468Z"
    }
   },
   "outputs": [],
   "source": [
    "## description du jeu de données et interpretation\n",
    "# comparaison des valeurs extrêmes au valeurs centrales\n"
   ]
  },
  {
   "cell_type": "markdown",
   "id": "ce762b0d",
   "metadata": {},
   "source": [
    "### Etude des valeurs manquantes"
   ]
  },
  {
   "cell_type": "code",
   "execution_count": 10,
   "id": "10ddc371",
   "metadata": {
    "ExecuteTime": {
     "end_time": "2024-06-18T13:23:06.084178Z",
     "start_time": "2024-06-18T13:23:06.073518Z"
    }
   },
   "outputs": [],
   "source": [
    "# visualiser les valeurs manquantes de quatre façons différentes\n",
    "# et interpréter chaque visualisation\n",
    "# simple tableau\n"
   ]
  },
  {
   "cell_type": "code",
   "execution_count": 11,
   "id": "6ebf740a",
   "metadata": {
    "ExecuteTime": {
     "end_time": "2024-06-18T13:23:06.105283Z",
     "start_time": "2024-06-18T13:23:06.092195Z"
    }
   },
   "outputs": [],
   "source": [
    "# dendograme\n"
   ]
  },
  {
   "cell_type": "code",
   "execution_count": 12,
   "id": "96225bbd",
   "metadata": {
    "ExecuteTime": {
     "end_time": "2024-06-18T13:23:06.119220Z",
     "start_time": "2024-06-18T13:23:06.110296Z"
    }
   },
   "outputs": [],
   "source": [
    "# heatmap de correlations\n"
   ]
  },
  {
   "cell_type": "code",
   "execution_count": 13,
   "id": "ccfddf9b",
   "metadata": {
    "ExecuteTime": {
     "end_time": "2024-06-18T13:23:06.135021Z",
     "start_time": "2024-06-18T13:23:06.123233Z"
    }
   },
   "outputs": [],
   "source": [
    "# Matrice\n"
   ]
  },
  {
   "cell_type": "markdown",
   "id": "35992392",
   "metadata": {},
   "source": [
    "### Distribution des données"
   ]
  },
  {
   "cell_type": "code",
   "execution_count": 14,
   "id": "1a2e2a7e",
   "metadata": {
    "ExecuteTime": {
     "end_time": "2024-06-18T13:23:06.150973Z",
     "start_time": "2024-06-18T13:23:06.139033Z"
    }
   },
   "outputs": [],
   "source": [
    "# Boxplot du Label vs chaque variable categorielle \n",
    "# si le nombre de catégories n'excède 10, sinon des barplots\n"
   ]
  },
  {
   "cell_type": "code",
   "execution_count": null,
   "id": "a50013d8",
   "metadata": {},
   "outputs": [],
   "source": []
  },
  {
   "cell_type": "code",
   "execution_count": 15,
   "id": "9d2e3cb3",
   "metadata": {
    "ExecuteTime": {
     "end_time": "2024-06-18T13:23:06.173052Z",
     "start_time": "2024-06-18T13:23:06.155986Z"
    }
   },
   "outputs": [],
   "source": [
    "# subplots des distributions de toutes les variables numériques\n"
   ]
  },
  {
   "cell_type": "code",
   "execution_count": null,
   "id": "e7742fb5",
   "metadata": {},
   "outputs": [],
   "source": []
  },
  {
   "cell_type": "markdown",
   "id": "d318eb1a",
   "metadata": {},
   "source": [
    "### Matrice de correlations"
   ]
  },
  {
   "cell_type": "code",
   "execution_count": null,
   "id": "f9387e28",
   "metadata": {},
   "outputs": [],
   "source": []
  },
  {
   "cell_type": "markdown",
   "id": "fbe1376c",
   "metadata": {},
   "source": [
    "### Résumé de la partie exploratoire - transformations pertinentes?"
   ]
  },
  {
   "cell_type": "code",
   "execution_count": null,
   "id": "149fa642",
   "metadata": {},
   "outputs": [],
   "source": []
  },
  {
   "cell_type": "code",
   "execution_count": null,
   "id": "4a431e5a",
   "metadata": {},
   "outputs": [],
   "source": []
  },
  {
   "cell_type": "markdown",
   "id": "728f7037",
   "metadata": {},
   "source": [
    "## Préparation des données"
   ]
  },
  {
   "cell_type": "markdown",
   "id": "9b804223",
   "metadata": {},
   "source": [
    "### Gestion des données manquantes"
   ]
  },
  {
   "cell_type": "markdown",
   "id": "83a4b367",
   "metadata": {},
   "source": [
    "- Utilisez l'une des trois approches classiques de gestion de données manquantes (suppression, encodage, imputation) à ce jeu de données et justifier votre choix. Discuter égalment de l'impact de votre approche sur les performances du modèle de prédiction du pric médian que vous concevrez plutard."
   ]
  },
  {
   "cell_type": "code",
   "execution_count": 16,
   "id": "2e74c7ca",
   "metadata": {
    "ExecuteTime": {
     "end_time": "2024-06-18T13:23:06.191088Z",
     "start_time": "2024-06-18T13:23:06.179064Z"
    }
   },
   "outputs": [],
   "source": [
    "# gestion des données manquantes\n",
    "housing_train_clean_df = _"
   ]
  },
  {
   "cell_type": "code",
   "execution_count": null,
   "id": "cc6e891b",
   "metadata": {},
   "outputs": [],
   "source": []
  },
  {
   "cell_type": "markdown",
   "id": "bc29eb57",
   "metadata": {},
   "source": [
    "### Correction ou suppression de valeurs aberrantes"
   ]
  },
  {
   "cell_type": "code",
   "execution_count": null,
   "id": "4380601f",
   "metadata": {},
   "outputs": [],
   "source": []
  },
  {
   "cell_type": "code",
   "execution_count": null,
   "id": "1f3e4523",
   "metadata": {},
   "outputs": [],
   "source": []
  },
  {
   "cell_type": "markdown",
   "id": "8e015b7c",
   "metadata": {},
   "source": [
    "### Sélection de feature"
   ]
  },
  {
   "cell_type": "code",
   "execution_count": 17,
   "id": "bae6364f",
   "metadata": {
    "ExecuteTime": {
     "end_time": "2024-06-18T13:23:06.743088Z",
     "start_time": "2024-06-18T13:23:06.735832Z"
    }
   },
   "outputs": [],
   "source": [
    "# supprimez les variables ne fournissant pas d'informations utiles\n",
    "# pour prédire le prix médian des maisons\n"
   ]
  },
  {
   "cell_type": "code",
   "execution_count": null,
   "id": "fe45139f",
   "metadata": {},
   "outputs": [],
   "source": []
  },
  {
   "cell_type": "markdown",
   "id": "99123c72",
   "metadata": {},
   "source": [
    "### Feature engineering"
   ]
  },
  {
   "cell_type": "markdown",
   "id": "8b33f480",
   "metadata": {},
   "source": [
    "- Discrétisez les variables continues\n",
    "- Décomposez les features si nécessaire : catégorie, date/time,...\n",
    "- Effectuez des transformations prometeuses : aggrégation, log(x), sqrt(x),...\n"
   ]
  },
  {
   "cell_type": "code",
   "execution_count": null,
   "id": "94210234",
   "metadata": {},
   "outputs": [],
   "source": []
  },
  {
   "cell_type": "code",
   "execution_count": null,
   "id": "599a2124",
   "metadata": {},
   "outputs": [],
   "source": []
  },
  {
   "cell_type": "markdown",
   "id": "0c2a8ae1",
   "metadata": {},
   "source": [
    "### [Feature Scaling and/or Normalization](https://colab.research.google.com/github/ml-course/master/blob/master/notebooks/06%20-%20Data%20Preprocessing.ipynb)"
   ]
  },
  {
   "cell_type": "markdown",
   "id": "01363815",
   "metadata": {},
   "source": [
    "- Réduiser à la même échelle entre 0 et 1 toutes les variables numériques"
   ]
  },
  {
   "cell_type": "code",
   "execution_count": null,
   "id": "9255b194",
   "metadata": {},
   "outputs": [],
   "source": []
  },
  {
   "cell_type": "code",
   "execution_count": null,
   "id": "adcf9c33",
   "metadata": {},
   "outputs": [],
   "source": []
  },
  {
   "cell_type": "markdown",
   "id": "1a5fb938",
   "metadata": {},
   "source": [
    "### Encoder les variables catégorielles"
   ]
  },
  {
   "cell_type": "code",
   "execution_count": null,
   "id": "88ae2b9f",
   "metadata": {},
   "outputs": [],
   "source": []
  },
  {
   "cell_type": "markdown",
   "id": "ce8f01f5",
   "metadata": {},
   "source": [
    "### Créer un pipeline "
   ]
  },
  {
   "cell_type": "markdown",
   "id": "2126a37d",
   "metadata": {},
   "source": [
    "- Créez un pipeline pour automatiser les transformations effectuer sur l'ensemble d'entraînement et éviter les fuites de données\n",
    "\n",
    "- Séparez la donnée d'entraînement en ensemble d'entraînement et de validation\n",
    "\n",
    "- Appliquer le pipeline créer dessus"
   ]
  },
  {
   "cell_type": "code",
   "execution_count": null,
   "id": "33d7b6bc",
   "metadata": {},
   "outputs": [],
   "source": []
  }
 ],
 "metadata": {
  "kernelspec": {
   "display_name": "Python 3 (ipykernel)",
   "language": "python",
   "name": "python3"
  },
  "language_info": {
   "codemirror_mode": {
    "name": "ipython",
    "version": 3
   },
   "file_extension": ".py",
   "mimetype": "text/x-python",
   "name": "python",
   "nbconvert_exporter": "python",
   "pygments_lexer": "ipython3",
   "version": "3.9.2"
  },
  "nbTranslate": {
   "displayLangs": [
    "*"
   ],
   "hotkey": "alt-t",
   "langInMainMenu": true,
   "sourceLang": "en",
   "targetLang": "fr",
   "useGoogleTranslate": true
  },
  "toc": {
   "base_numbering": 1,
   "nav_menu": {},
   "number_sections": true,
   "sideBar": true,
   "skip_h1_title": true,
   "title_cell": "Table of Contents",
   "title_sidebar": "Contents",
   "toc_cell": true,
   "toc_position": {},
   "toc_section_display": true,
   "toc_window_display": true
  }
 },
 "nbformat": 4,
 "nbformat_minor": 5
}
